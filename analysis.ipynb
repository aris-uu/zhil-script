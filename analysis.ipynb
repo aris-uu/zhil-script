{
 "cells": [
  {
   "cell_type": "code",
   "execution_count": 11,
   "metadata": {},
   "outputs": [],
   "source": [
    "with open('wordlist0.txt', 'r') as f:\n",
    "    words = f.read().splitlines()\n",
    "    \n",
    "with open('wordlist1.txt', 'r') as f:\n",
    "    words.extend(f.read().splitlines())\n",
    "    \n",
    "with open('wordlist2.txt', 'r') as f:\n",
    "    words.extend(f.read().splitlines())\n"
   ]
  },
  {
   "cell_type": "code",
   "execution_count": 2,
   "metadata": {},
   "outputs": [],
   "source": [
    "ciphertext = 'abfcdef'\n",
    "length = len(ciphertext)\n",
    "num_unique = len(set(ciphertext))"
   ]
  },
  {
   "cell_type": "code",
   "execution_count": 7,
   "metadata": {},
   "outputs": [],
   "source": [
    "def is_isomorphic(a, b):\n",
    "    if len(a) != len(b):\n",
    "        return False\n",
    "\n",
    "    mapping = {}\n",
    "    \n",
    "    mapped = set()\n",
    "    \n",
    "    for c1, c2 in zip(a, b):\n",
    "        if c1 in mapping.keys():\n",
    "            if mapping[c1] != c2:\n",
    "                return False\n",
    "        else:\n",
    "            if c2 in mapped:\n",
    "                return False\n",
    "            mapping[c1] = c2\n",
    "            mapped.add(c2)\n",
    "    \n",
    "    return True"
   ]
  },
  {
   "cell_type": "code",
   "execution_count": 32,
   "metadata": {},
   "outputs": [
    {
     "name": "stdout",
     "output_type": "stream",
     "text": [
      "bebodoran\n",
      "bebuyutan\n",
      "kekolotan\n",
      "kekotoran\n",
      "kekudusan\n",
      "kekufuran\n",
      "kekumuhan\n",
      "kekurusan\n",
      "kekusutan\n",
      "memalangi\n",
      "nanofosil\n",
      "anacyclus\n",
      "anaeretic\n",
      "anagogics\n",
      "anagogies\n",
      "cycadales\n",
      "cyclolith\n",
      "cocitizen\n",
      "imitators\n",
      "nonexempt\n",
      "nonpapist\n",
      "nonsystem\n",
      "nonsister\n",
      "nontitled\n",
      "susotoxin\n",
      "tetrarchy\n",
      "tetrarchs\n"
     ]
    }
   ],
   "source": [
    "ciphertext = 'abacdcefg'\n",
    "for word in words:\n",
    "    if is_isomorphic(ciphertext, word):\n",
    "        print(word)"
   ]
  }
 ],
 "metadata": {
  "kernelspec": {
   "display_name": "Python 3",
   "language": "python",
   "name": "python3"
  },
  "language_info": {
   "codemirror_mode": {
    "name": "ipython",
    "version": 3
   },
   "file_extension": ".py",
   "mimetype": "text/x-python",
   "name": "python",
   "nbconvert_exporter": "python",
   "pygments_lexer": "ipython3",
   "version": "3.11.1"
  },
  "orig_nbformat": 4
 },
 "nbformat": 4,
 "nbformat_minor": 2
}
