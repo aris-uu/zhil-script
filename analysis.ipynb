{
 "cells": [
  {
   "cell_type": "code",
   "execution_count": 10,
   "metadata": {},
   "outputs": [
    {
     "name": "stdout",
     "output_type": "stream",
     "text": [
      "431961\n"
     ]
    }
   ],
   "source": [
    "with open('wordlist0.txt', 'r') as f:\n",
    "    words = f.read().splitlines()\n",
    "    \n",
    "with open('wordlist1.txt', 'r') as f:\n",
    "    words.extend(f.read().splitlines())\n",
    "    \n",
    "with open('wordlist2.txt', 'r') as f:\n",
    "    words.extend(f.read().splitlines())\n",
    "\n",
    "print(len(words))"
   ]
  },
  {
   "cell_type": "code",
   "execution_count": 56,
   "metadata": {},
   "outputs": [],
   "source": [
    "ciphertext = 'abfcdef'\n",
    "length = len(ciphertext)\n",
    "num_unique = len(set(ciphertext))"
   ]
  },
  {
   "cell_type": "code",
   "execution_count": 4,
   "metadata": {},
   "outputs": [],
   "source": [
    "def is_isomorphic(a, b):\n",
    "    if len(a) != len(b):\n",
    "        return False\n",
    "\n",
    "    mapping = {}\n",
    "    \n",
    "    mapped = set()\n",
    "    \n",
    "    for c1, c2 in zip(a, b):\n",
    "        if c1 in mapping.keys():\n",
    "            if mapping[c1] != c2:\n",
    "                return False\n",
    "        else:\n",
    "            if c2 in mapped:\n",
    "                return False\n",
    "            mapping[c1] = c2\n",
    "            mapped.add(c2)\n",
    "    \n",
    "    return True"
   ]
  },
  {
   "cell_type": "code",
   "execution_count": 7,
   "metadata": {},
   "outputs": [],
   "source": [
    "ciphertext = 'abacdcefg'\n",
    "for word in words:\n",
    "    if is_isomorphic(ciphertext, word):\n",
    "        print(word)"
   ]
  },
  {
   "cell_type": "code",
   "execution_count": 18,
   "metadata": {},
   "outputs": [
    {
     "name": "stdout",
     "output_type": "stream",
     "text": [
      "544\n",
      "17442\n",
      "17442\n"
     ]
    }
   ],
   "source": [
    "from itertools import product\n",
    "\n",
    "ciphertexts = 'abac defgab fahijb'.split(' ')\n",
    "\n",
    "isomorphic = []\n",
    "for i, ciphertext in enumerate(ciphertexts):\n",
    "    isomorphic.append([word for word in words if is_isomorphic(ciphertext, word)])\n",
    "    print(len(isomorphic[i]))\n",
    "\n",
    "for word in product(*isomorphic):\n",
    "    if is_isomorphic(''.join(ciphertexts), ''.join(word)):\n",
    "        print(' '.join(word))"
   ]
  }
 ],
 "metadata": {
  "kernelspec": {
   "display_name": "Python 3",
   "language": "python",
   "name": "python3"
  },
  "language_info": {
   "codemirror_mode": {
    "name": "ipython",
    "version": 3
   },
   "file_extension": ".py",
   "mimetype": "text/x-python",
   "name": "python",
   "nbconvert_exporter": "python",
   "pygments_lexer": "ipython3",
   "version": "3.11.1"
  },
  "orig_nbformat": 4
 },
 "nbformat": 4,
 "nbformat_minor": 2
}
