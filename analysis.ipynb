{
 "cells": [
  {
   "cell_type": "code",
   "execution_count": 44,
   "metadata": {},
   "outputs": [
    {
     "name": "stdout",
     "output_type": "stream",
     "text": [
      "417682\n"
     ]
    }
   ],
   "source": [
    "with open('wordlist0.txt', 'r') as f:\n",
    "    words = f.read().splitlines()\n",
    "    \n",
    "with open('wordlist1.txt', 'r') as f:\n",
    "    words.extend(f.read().splitlines())\n",
    "    \n",
    "with open('wordlist2.txt', 'r') as f:\n",
    "    words.extend(f.read().splitlines())\n",
    "\n",
    "words = list(set(words))\n",
    "words.sort()\n",
    "print(len(words))"
   ]
  },
  {
   "cell_type": "code",
   "execution_count": 46,
   "metadata": {},
   "outputs": [],
   "source": [
    "with open('masterwordlist.txt', 'w') as f:\n",
    "    f.write('\\n'.join(words))"
   ]
  },
  {
   "cell_type": "code",
   "execution_count": 56,
   "metadata": {},
   "outputs": [],
   "source": [
    "ciphertext = 'abfcdef'\n",
    "length = len(ciphertext)\n",
    "num_unique = len(set(ciphertext))"
   ]
  },
  {
   "cell_type": "code",
   "execution_count": 4,
   "metadata": {},
   "outputs": [],
   "source": [
    "def is_isomorphic(a, b):\n",
    "    if len(a) != len(b):\n",
    "        return False\n",
    "\n",
    "    mapping = {}\n",
    "    \n",
    "    mapped = set()\n",
    "    \n",
    "    for c1, c2 in zip(a, b):\n",
    "        if c1 in mapping.keys():\n",
    "            if mapping[c1] != c2:\n",
    "                return False\n",
    "        else:\n",
    "            if c2 in mapped:\n",
    "                return False\n",
    "            mapping[c1] = c2\n",
    "            mapped.add(c2)\n",
    "    \n",
    "    return True"
   ]
  },
  {
   "cell_type": "code",
   "execution_count": 7,
   "metadata": {},
   "outputs": [],
   "source": [
    "ciphertext = 'abacdcefg'\n",
    "for word in words:\n",
    "    if is_isomorphic(ciphertext, word):\n",
    "        print(word)"
   ]
  },
  {
   "cell_type": "code",
   "execution_count": 43,
   "metadata": {},
   "outputs": [
    {
     "name": "stderr",
     "output_type": "stream",
     "text": [
      "  0%|          | 6644418/319174987964 [00:10<144:43:21, 612605.26it/s]\n"
     ]
    },
    {
     "ename": "KeyboardInterrupt",
     "evalue": "",
     "output_type": "error",
     "traceback": [
      "\u001b[1;31m---------------------------------------------------------------------------\u001b[0m",
      "\u001b[1;31mKeyboardInterrupt\u001b[0m                         Traceback (most recent call last)",
      "Cell \u001b[1;32mIn[43], line 14\u001b[0m\n\u001b[0;32m     11\u001b[0m     lengths\u001b[39m.\u001b[39mappend(\u001b[39mlen\u001b[39m(isomorphic[i]))\n\u001b[0;32m     13\u001b[0m \u001b[39mfor\u001b[39;00m word \u001b[39min\u001b[39;00m tqdm(product(\u001b[39m*\u001b[39misomorphic), total\u001b[39m=\u001b[39mprod(lengths)):\n\u001b[1;32m---> 14\u001b[0m     \u001b[39mif\u001b[39;00m is_isomorphic(\u001b[39m'\u001b[39;49m\u001b[39m'\u001b[39;49m\u001b[39m.\u001b[39;49mjoin(ciphertexts), \u001b[39m'\u001b[39;49m\u001b[39m'\u001b[39;49m\u001b[39m.\u001b[39;49mjoin(word)):\n\u001b[0;32m     15\u001b[0m         \u001b[39mprint\u001b[39m(\u001b[39m'\u001b[39m\u001b[39m \u001b[39m\u001b[39m'\u001b[39m\u001b[39m.\u001b[39mjoin(word))\n",
      "Cell \u001b[1;32mIn[4], line 17\u001b[0m, in \u001b[0;36mis_isomorphic\u001b[1;34m(a, b)\u001b[0m\n\u001b[0;32m     15\u001b[0m             \u001b[39mreturn\u001b[39;00m \u001b[39mFalse\u001b[39;00m\n\u001b[0;32m     16\u001b[0m         mapping[c1] \u001b[39m=\u001b[39m c2\n\u001b[1;32m---> 17\u001b[0m         mapped\u001b[39m.\u001b[39madd(c2)\n\u001b[0;32m     19\u001b[0m \u001b[39mreturn\u001b[39;00m \u001b[39mTrue\u001b[39;00m\n",
      "\u001b[1;31mKeyboardInterrupt\u001b[0m: "
     ]
    }
   ],
   "source": [
    "from itertools import product\n",
    "from tqdm import tqdm\n",
    "from math import prod\n",
    "\n",
    "ciphertexts = 'abcdef gchiejek lmnop'.split(' ')\n",
    "\n",
    "isomorphic = []\n",
    "lengths = []\n",
    "for i, ciphertext in enumerate(ciphertexts):\n",
    "    isomorphic.append([word for word in words if is_isomorphic(ciphertext, word)])\n",
    "    lengths.append(len(isomorphic[i]))\n",
    "\n",
    "for word in tqdm(product(*isomorphic), total=prod(lengths)):\n",
    "    if is_isomorphic(''.join(ciphertexts), ''.join(word)):\n",
    "        print(' '.join(word))"
   ]
  }
 ],
 "metadata": {
  "kernelspec": {
   "display_name": "Python 3",
   "language": "python",
   "name": "python3"
  },
  "language_info": {
   "codemirror_mode": {
    "name": "ipython",
    "version": 3
   },
   "file_extension": ".py",
   "mimetype": "text/x-python",
   "name": "python",
   "nbconvert_exporter": "python",
   "pygments_lexer": "ipython3",
   "version": "3.11.1"
  },
  "orig_nbformat": 4
 },
 "nbformat": 4,
 "nbformat_minor": 2
}
